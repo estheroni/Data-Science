{
  "nbformat": 4,
  "nbformat_minor": 0,
  "metadata": {
    "colab": {
      "name": "Test1.ipynb",
      "provenance": [],
      "collapsed_sections": [],
      "authorship_tag": "ABX9TyNIPbPZM9pLIDC4OoYWG6PU",
      "include_colab_link": true
    },
    "kernelspec": {
      "name": "python3",
      "display_name": "Python 3"
    },
    "language_info": {
      "name": "python"
    }
  },
  "cells": [
    {
      "cell_type": "markdown",
      "metadata": {
        "id": "view-in-github",
        "colab_type": "text"
      },
      "source": [
        "<a href=\"https://colab.research.google.com/github/estheroni/Data-Science/blob/main/Test1.ipynb\" target=\"_parent\"><img src=\"https://colab.research.google.com/assets/colab-badge.svg\" alt=\"Open In Colab\"/></a>"
      ]
    },
    {
      "cell_type": "code",
      "metadata": {
        "id": "9Xh9LGAWuMjw"
      },
      "source": [
        "import numpy as np\n",
        "import pandas as pd"
      ],
      "execution_count": 3,
      "outputs": []
    },
    {
      "cell_type": "code",
      "metadata": {
        "id": "9vH7EeFwueLD"
      },
      "source": [
        "url=\"https://raw.githubusercontent.com/WalePhenomenon/climate_change/master/fuel_ferc1.csv\"\n",
        "fuel_data=pd.read_csv(url, error_bad_lines=False)"
      ],
      "execution_count": 4,
      "outputs": []
    },
    {
      "cell_type": "code",
      "metadata": {
        "colab": {
          "base_uri": "https://localhost:8080/",
          "height": 224
        },
        "id": "KCCQmfx0uvKk",
        "outputId": "c78c79d4-14a9-4725-b955-ec27241b61c2"
      },
      "source": [
        "fuel_data.head()"
      ],
      "execution_count": 6,
      "outputs": [
        {
          "output_type": "execute_result",
          "data": {
            "text/html": [
              "<div>\n",
              "<style scoped>\n",
              "    .dataframe tbody tr th:only-of-type {\n",
              "        vertical-align: middle;\n",
              "    }\n",
              "\n",
              "    .dataframe tbody tr th {\n",
              "        vertical-align: top;\n",
              "    }\n",
              "\n",
              "    .dataframe thead th {\n",
              "        text-align: right;\n",
              "    }\n",
              "</style>\n",
              "<table border=\"1\" class=\"dataframe\">\n",
              "  <thead>\n",
              "    <tr style=\"text-align: right;\">\n",
              "      <th></th>\n",
              "      <th>record_id</th>\n",
              "      <th>utility_id_ferc1</th>\n",
              "      <th>report_year</th>\n",
              "      <th>plant_name_ferc1</th>\n",
              "      <th>fuel_type_code_pudl</th>\n",
              "      <th>fuel_unit</th>\n",
              "      <th>fuel_qty_burned</th>\n",
              "      <th>fuel_mmbtu_per_unit</th>\n",
              "      <th>fuel_cost_per_unit_burned</th>\n",
              "      <th>fuel_cost_per_unit_delivered</th>\n",
              "      <th>fuel_cost_per_mmbtu</th>\n",
              "    </tr>\n",
              "  </thead>\n",
              "  <tbody>\n",
              "    <tr>\n",
              "      <th>0</th>\n",
              "      <td>f1_fuel_1994_12_1_0_7</td>\n",
              "      <td>1</td>\n",
              "      <td>1994</td>\n",
              "      <td>rockport</td>\n",
              "      <td>coal</td>\n",
              "      <td>ton</td>\n",
              "      <td>5377489.0</td>\n",
              "      <td>16.590</td>\n",
              "      <td>18.59</td>\n",
              "      <td>18.53</td>\n",
              "      <td>1.121</td>\n",
              "    </tr>\n",
              "    <tr>\n",
              "      <th>1</th>\n",
              "      <td>f1_fuel_1994_12_1_0_10</td>\n",
              "      <td>1</td>\n",
              "      <td>1994</td>\n",
              "      <td>rockport total plant</td>\n",
              "      <td>coal</td>\n",
              "      <td>ton</td>\n",
              "      <td>10486945.0</td>\n",
              "      <td>16.592</td>\n",
              "      <td>18.58</td>\n",
              "      <td>18.53</td>\n",
              "      <td>1.120</td>\n",
              "    </tr>\n",
              "    <tr>\n",
              "      <th>2</th>\n",
              "      <td>f1_fuel_1994_12_2_0_1</td>\n",
              "      <td>2</td>\n",
              "      <td>1994</td>\n",
              "      <td>gorgas</td>\n",
              "      <td>coal</td>\n",
              "      <td>ton</td>\n",
              "      <td>2978683.0</td>\n",
              "      <td>24.130</td>\n",
              "      <td>39.72</td>\n",
              "      <td>38.12</td>\n",
              "      <td>1.650</td>\n",
              "    </tr>\n",
              "    <tr>\n",
              "      <th>3</th>\n",
              "      <td>f1_fuel_1994_12_2_0_7</td>\n",
              "      <td>2</td>\n",
              "      <td>1994</td>\n",
              "      <td>barry</td>\n",
              "      <td>coal</td>\n",
              "      <td>ton</td>\n",
              "      <td>3739484.0</td>\n",
              "      <td>23.950</td>\n",
              "      <td>47.21</td>\n",
              "      <td>45.99</td>\n",
              "      <td>1.970</td>\n",
              "    </tr>\n",
              "    <tr>\n",
              "      <th>4</th>\n",
              "      <td>f1_fuel_1994_12_2_0_10</td>\n",
              "      <td>2</td>\n",
              "      <td>1994</td>\n",
              "      <td>chickasaw</td>\n",
              "      <td>gas</td>\n",
              "      <td>mcf</td>\n",
              "      <td>40533.0</td>\n",
              "      <td>1.000</td>\n",
              "      <td>2.77</td>\n",
              "      <td>2.77</td>\n",
              "      <td>2.570</td>\n",
              "    </tr>\n",
              "  </tbody>\n",
              "</table>\n",
              "</div>"
            ],
            "text/plain": [
              "                record_id  ...  fuel_cost_per_mmbtu\n",
              "0   f1_fuel_1994_12_1_0_7  ...                1.121\n",
              "1  f1_fuel_1994_12_1_0_10  ...                1.120\n",
              "2   f1_fuel_1994_12_2_0_1  ...                1.650\n",
              "3   f1_fuel_1994_12_2_0_7  ...                1.970\n",
              "4  f1_fuel_1994_12_2_0_10  ...                2.570\n",
              "\n",
              "[5 rows x 11 columns]"
            ]
          },
          "metadata": {},
          "execution_count": 6
        }
      ]
    },
    {
      "cell_type": "code",
      "metadata": {
        "id": "JPkfo4sKuzCq"
      },
      "source": [
        "import matplotlib.pyplot as plt\n",
        "import seaborn as sns"
      ],
      "execution_count": 8,
      "outputs": []
    },
    {
      "cell_type": "code",
      "metadata": {
        "id": "3nrjrtO80_6_"
      },
      "source": [
        "A = [1,2,3,4,5,6]\n",
        "B = [13, 21, 34]"
      ],
      "execution_count": 16,
      "outputs": []
    },
    {
      "cell_type": "code",
      "metadata": {
        "id": "0g3F4ObE2CLP"
      },
      "source": [
        "A.extend(B)"
      ],
      "execution_count": 17,
      "outputs": []
    },
    {
      "cell_type": "code",
      "metadata": {
        "colab": {
          "base_uri": "https://localhost:8080/"
        },
        "id": "rKo1moMB2NCS",
        "outputId": "f47e757c-67d9-40cb-e10f-0e7b81543ef4"
      },
      "source": [
        "A"
      ],
      "execution_count": 18,
      "outputs": [
        {
          "output_type": "execute_result",
          "data": {
            "text/plain": [
              "[1, 2, 3, 4, 5, 6, 13, 21, 34]"
            ]
          },
          "metadata": {},
          "execution_count": 18
        }
      ]
    },
    {
      "cell_type": "code",
      "metadata": {
        "colab": {
          "base_uri": "https://localhost:8080/",
          "height": 317
        },
        "id": "Wm1rHrMD2Oke",
        "outputId": "23204a2c-9b7e-4646-a03e-59b4defbda38"
      },
      "source": [
        "fuel_data.describe()"
      ],
      "execution_count": 21,
      "outputs": [
        {
          "output_type": "execute_result",
          "data": {
            "text/html": [
              "<div>\n",
              "<style scoped>\n",
              "    .dataframe tbody tr th:only-of-type {\n",
              "        vertical-align: middle;\n",
              "    }\n",
              "\n",
              "    .dataframe tbody tr th {\n",
              "        vertical-align: top;\n",
              "    }\n",
              "\n",
              "    .dataframe thead th {\n",
              "        text-align: right;\n",
              "    }\n",
              "</style>\n",
              "<table border=\"1\" class=\"dataframe\">\n",
              "  <thead>\n",
              "    <tr style=\"text-align: right;\">\n",
              "      <th></th>\n",
              "      <th>utility_id_ferc1</th>\n",
              "      <th>report_year</th>\n",
              "      <th>fuel_qty_burned</th>\n",
              "      <th>fuel_mmbtu_per_unit</th>\n",
              "      <th>fuel_cost_per_unit_burned</th>\n",
              "      <th>fuel_cost_per_unit_delivered</th>\n",
              "      <th>fuel_cost_per_mmbtu</th>\n",
              "    </tr>\n",
              "  </thead>\n",
              "  <tbody>\n",
              "    <tr>\n",
              "      <th>count</th>\n",
              "      <td>29523.000000</td>\n",
              "      <td>29523.000000</td>\n",
              "      <td>2.952300e+04</td>\n",
              "      <td>29523.000000</td>\n",
              "      <td>29523.000000</td>\n",
              "      <td>2.952300e+04</td>\n",
              "      <td>29523.000000</td>\n",
              "    </tr>\n",
              "    <tr>\n",
              "      <th>mean</th>\n",
              "      <td>118.601836</td>\n",
              "      <td>2005.806050</td>\n",
              "      <td>2.622119e+06</td>\n",
              "      <td>8.492111</td>\n",
              "      <td>208.649031</td>\n",
              "      <td>9.175704e+02</td>\n",
              "      <td>19.304354</td>\n",
              "    </tr>\n",
              "    <tr>\n",
              "      <th>std</th>\n",
              "      <td>74.178353</td>\n",
              "      <td>7.025483</td>\n",
              "      <td>9.118004e+06</td>\n",
              "      <td>10.600220</td>\n",
              "      <td>2854.490090</td>\n",
              "      <td>6.877593e+04</td>\n",
              "      <td>2091.540939</td>\n",
              "    </tr>\n",
              "    <tr>\n",
              "      <th>min</th>\n",
              "      <td>1.000000</td>\n",
              "      <td>1994.000000</td>\n",
              "      <td>1.000000e+00</td>\n",
              "      <td>0.000001</td>\n",
              "      <td>-276.080000</td>\n",
              "      <td>-8.749370e+02</td>\n",
              "      <td>-41.501000</td>\n",
              "    </tr>\n",
              "    <tr>\n",
              "      <th>25%</th>\n",
              "      <td>55.000000</td>\n",
              "      <td>2000.000000</td>\n",
              "      <td>1.381700e+04</td>\n",
              "      <td>1.024000</td>\n",
              "      <td>5.207000</td>\n",
              "      <td>3.778500e+00</td>\n",
              "      <td>1.940000</td>\n",
              "    </tr>\n",
              "    <tr>\n",
              "      <th>50%</th>\n",
              "      <td>122.000000</td>\n",
              "      <td>2006.000000</td>\n",
              "      <td>2.533220e+05</td>\n",
              "      <td>5.762694</td>\n",
              "      <td>26.000000</td>\n",
              "      <td>1.737100e+01</td>\n",
              "      <td>4.127000</td>\n",
              "    </tr>\n",
              "    <tr>\n",
              "      <th>75%</th>\n",
              "      <td>176.000000</td>\n",
              "      <td>2012.000000</td>\n",
              "      <td>1.424034e+06</td>\n",
              "      <td>17.006000</td>\n",
              "      <td>47.113000</td>\n",
              "      <td>4.213700e+01</td>\n",
              "      <td>7.745000</td>\n",
              "    </tr>\n",
              "    <tr>\n",
              "      <th>max</th>\n",
              "      <td>514.000000</td>\n",
              "      <td>2018.000000</td>\n",
              "      <td>5.558942e+08</td>\n",
              "      <td>341.260000</td>\n",
              "      <td>139358.000000</td>\n",
              "      <td>7.964521e+06</td>\n",
              "      <td>359278.000000</td>\n",
              "    </tr>\n",
              "  </tbody>\n",
              "</table>\n",
              "</div>"
            ],
            "text/plain": [
              "       utility_id_ferc1  ...  fuel_cost_per_mmbtu\n",
              "count      29523.000000  ...         29523.000000\n",
              "mean         118.601836  ...            19.304354\n",
              "std           74.178353  ...          2091.540939\n",
              "min            1.000000  ...           -41.501000\n",
              "25%           55.000000  ...             1.940000\n",
              "50%          122.000000  ...             4.127000\n",
              "75%          176.000000  ...             7.745000\n",
              "max          514.000000  ...        359278.000000\n",
              "\n",
              "[8 rows x 7 columns]"
            ]
          },
          "metadata": {},
          "execution_count": 21
        }
      ]
    },
    {
      "cell_type": "code",
      "metadata": {
        "colab": {
          "base_uri": "https://localhost:8080/"
        },
        "id": "uud8o4pn3X6-",
        "outputId": "4bef429d-d1ee-4c4d-c0f5-59111f0f7b1e"
      },
      "source": [
        "fuel_data[\"fuel_qty_burned\"].skew()"
      ],
      "execution_count": 24,
      "outputs": [
        {
          "output_type": "execute_result",
          "data": {
            "text/plain": [
              "15.851495469109503"
            ]
          },
          "metadata": {},
          "execution_count": 24
        }
      ]
    },
    {
      "cell_type": "code",
      "metadata": {
        "colab": {
          "base_uri": "https://localhost:8080/"
        },
        "id": "EkRRncMQ4mz2",
        "outputId": "74f0cb0b-91ff-4dd5-b3ba-a212f4d53e35"
      },
      "source": [
        "fuel_data[\"fuel_qty_burned\"].kurt()"
      ],
      "execution_count": 25,
      "outputs": [
        {
          "output_type": "execute_result",
          "data": {
            "text/plain": [
              "651.3694501337732"
            ]
          },
          "metadata": {},
          "execution_count": 25
        }
      ]
    },
    {
      "cell_type": "code",
      "metadata": {
        "colab": {
          "base_uri": "https://localhost:8080/"
        },
        "id": "gc6RZ3xa6YMx",
        "outputId": "be2676de-a8e6-4489-93f9-e5cab10f9a1e"
      },
      "source": [
        "(180/29343)\t*100"
      ],
      "execution_count": 27,
      "outputs": [
        {
          "output_type": "execute_result",
          "data": {
            "text/plain": [
              "0.6134342091810653"
            ]
          },
          "metadata": {},
          "execution_count": 27
        }
      ]
    },
    {
      "cell_type": "code",
      "metadata": {
        "colab": {
          "base_uri": "https://localhost:8080/",
          "height": 439
        },
        "id": "ChXaRxhk6afX",
        "outputId": "23a68384-a2c2-4bb3-cf02-1616e44c863c"
      },
      "source": [
        "fuel_data.sort_values(\"fuel_cost_per_unit_burned\")"
      ],
      "execution_count": 32,
      "outputs": [
        {
          "output_type": "execute_result",
          "data": {
            "text/html": [
              "<div>\n",
              "<style scoped>\n",
              "    .dataframe tbody tr th:only-of-type {\n",
              "        vertical-align: middle;\n",
              "    }\n",
              "\n",
              "    .dataframe tbody tr th {\n",
              "        vertical-align: top;\n",
              "    }\n",
              "\n",
              "    .dataframe thead th {\n",
              "        text-align: right;\n",
              "    }\n",
              "</style>\n",
              "<table border=\"1\" class=\"dataframe\">\n",
              "  <thead>\n",
              "    <tr style=\"text-align: right;\">\n",
              "      <th></th>\n",
              "      <th>record_id</th>\n",
              "      <th>utility_id_ferc1</th>\n",
              "      <th>report_year</th>\n",
              "      <th>plant_name_ferc1</th>\n",
              "      <th>fuel_type_code_pudl</th>\n",
              "      <th>fuel_unit</th>\n",
              "      <th>fuel_qty_burned</th>\n",
              "      <th>fuel_mmbtu_per_unit</th>\n",
              "      <th>fuel_cost_per_unit_burned</th>\n",
              "      <th>fuel_cost_per_unit_delivered</th>\n",
              "      <th>fuel_cost_per_mmbtu</th>\n",
              "    </tr>\n",
              "  </thead>\n",
              "  <tbody>\n",
              "    <tr>\n",
              "      <th>7733</th>\n",
              "      <td>f1_fuel_2000_12_194_3_3</td>\n",
              "      <td>194</td>\n",
              "      <td>2000</td>\n",
              "      <td>nelson dewey unit 2</td>\n",
              "      <td>waste</td>\n",
              "      <td>ton</td>\n",
              "      <td>39.0</td>\n",
              "      <td>0.015500</td>\n",
              "      <td>-276.080</td>\n",
              "      <td>-174.670</td>\n",
              "      <td>-8.906</td>\n",
              "    </tr>\n",
              "    <tr>\n",
              "      <th>7736</th>\n",
              "      <td>f1_fuel_2000_12_194_3_6</td>\n",
              "      <td>194</td>\n",
              "      <td>2000</td>\n",
              "      <td>nelson dewey u 1&amp;2</td>\n",
              "      <td>waste</td>\n",
              "      <td>ton</td>\n",
              "      <td>116.0</td>\n",
              "      <td>0.015500</td>\n",
              "      <td>-174.670</td>\n",
              "      <td>-174.670</td>\n",
              "      <td>-5.635</td>\n",
              "    </tr>\n",
              "    <tr>\n",
              "      <th>7730</th>\n",
              "      <td>f1_fuel_2000_12_194_2_15</td>\n",
              "      <td>194</td>\n",
              "      <td>2000</td>\n",
              "      <td>nelson dewey unit 1</td>\n",
              "      <td>waste</td>\n",
              "      <td>ton</td>\n",
              "      <td>77.0</td>\n",
              "      <td>0.015500</td>\n",
              "      <td>-123.310</td>\n",
              "      <td>-174.670</td>\n",
              "      <td>-3.978</td>\n",
              "    </tr>\n",
              "    <tr>\n",
              "      <th>11242</th>\n",
              "      <td>f1_fuel_2003_12_281_1_4</td>\n",
              "      <td>281</td>\n",
              "      <td>2003</td>\n",
              "      <td>sixth street (cont)</td>\n",
              "      <td>other</td>\n",
              "      <td>ton</td>\n",
              "      <td>1159.0</td>\n",
              "      <td>0.012731</td>\n",
              "      <td>-119.040</td>\n",
              "      <td>-118.340</td>\n",
              "      <td>-5.750</td>\n",
              "    </tr>\n",
              "    <tr>\n",
              "      <th>2123</th>\n",
              "      <td>f1_fuel_1995_12_194_5_9</td>\n",
              "      <td>194</td>\n",
              "      <td>1995</td>\n",
              "      <td>rock river unit 1</td>\n",
              "      <td>waste</td>\n",
              "      <td>ton</td>\n",
              "      <td>6072.0</td>\n",
              "      <td>0.013457</td>\n",
              "      <td>-85.760</td>\n",
              "      <td>-85.640</td>\n",
              "      <td>-3.186</td>\n",
              "    </tr>\n",
              "    <tr>\n",
              "      <th>...</th>\n",
              "      <td>...</td>\n",
              "      <td>...</td>\n",
              "      <td>...</td>\n",
              "      <td>...</td>\n",
              "      <td>...</td>\n",
              "      <td>...</td>\n",
              "      <td>...</td>\n",
              "      <td>...</td>\n",
              "      <td>...</td>\n",
              "      <td>...</td>\n",
              "      <td>...</td>\n",
              "    </tr>\n",
              "    <tr>\n",
              "      <th>22991</th>\n",
              "      <td>f1_fuel_2012_12_7_7_13</td>\n",
              "      <td>7</td>\n",
              "      <td>2012</td>\n",
              "      <td>palo verde 2</td>\n",
              "      <td>nuclear</td>\n",
              "      <td>kgU</td>\n",
              "      <td>465.0</td>\n",
              "      <td>0.066706</td>\n",
              "      <td>65137.588</td>\n",
              "      <td>2958.417</td>\n",
              "      <td>0.976</td>\n",
              "    </tr>\n",
              "    <tr>\n",
              "      <th>21483</th>\n",
              "      <td>f1_fuel_2011_12_7_7_13</td>\n",
              "      <td>7</td>\n",
              "      <td>2011</td>\n",
              "      <td>palo verde 2</td>\n",
              "      <td>nuclear</td>\n",
              "      <td>kgU</td>\n",
              "      <td>467.0</td>\n",
              "      <td>0.066704</td>\n",
              "      <td>69785.215</td>\n",
              "      <td>2834.457</td>\n",
              "      <td>1.046</td>\n",
              "    </tr>\n",
              "    <tr>\n",
              "      <th>24577</th>\n",
              "      <td>f1_fuel_2014_12_177_2_7</td>\n",
              "      <td>177</td>\n",
              "      <td>2014</td>\n",
              "      <td>howard bend c.t.</td>\n",
              "      <td>oil</td>\n",
              "      <td>bbl</td>\n",
              "      <td>76.0</td>\n",
              "      <td>5.984286</td>\n",
              "      <td>80459.000</td>\n",
              "      <td>0.000</td>\n",
              "      <td>13.445</td>\n",
              "    </tr>\n",
              "    <tr>\n",
              "      <th>20719</th>\n",
              "      <td>f1_fuel_2011_12_132_1_2</td>\n",
              "      <td>132</td>\n",
              "      <td>2011</td>\n",
              "      <td>solway</td>\n",
              "      <td>oil</td>\n",
              "      <td>bbl</td>\n",
              "      <td>150.0</td>\n",
              "      <td>5.880000</td>\n",
              "      <td>83538.000</td>\n",
              "      <td>137.172</td>\n",
              "      <td>14.207</td>\n",
              "    </tr>\n",
              "    <tr>\n",
              "      <th>25127</th>\n",
              "      <td>f1_fuel_2014_12_147_0_2</td>\n",
              "      <td>147</td>\n",
              "      <td>2014</td>\n",
              "      <td>san juan</td>\n",
              "      <td>oil</td>\n",
              "      <td>bbl</td>\n",
              "      <td>49418.0</td>\n",
              "      <td>6.172572</td>\n",
              "      <td>139358.000</td>\n",
              "      <td>136410.000</td>\n",
              "      <td>22.577</td>\n",
              "    </tr>\n",
              "  </tbody>\n",
              "</table>\n",
              "<p>29523 rows × 11 columns</p>\n",
              "</div>"
            ],
            "text/plain": [
              "                      record_id  ...  fuel_cost_per_mmbtu\n",
              "7733    f1_fuel_2000_12_194_3_3  ...               -8.906\n",
              "7736    f1_fuel_2000_12_194_3_6  ...               -5.635\n",
              "7730   f1_fuel_2000_12_194_2_15  ...               -3.978\n",
              "11242   f1_fuel_2003_12_281_1_4  ...               -5.750\n",
              "2123    f1_fuel_1995_12_194_5_9  ...               -3.186\n",
              "...                         ...  ...                  ...\n",
              "22991    f1_fuel_2012_12_7_7_13  ...                0.976\n",
              "21483    f1_fuel_2011_12_7_7_13  ...                1.046\n",
              "24577   f1_fuel_2014_12_177_2_7  ...               13.445\n",
              "20719   f1_fuel_2011_12_132_1_2  ...               14.207\n",
              "25127   f1_fuel_2014_12_147_0_2  ...               22.577\n",
              "\n",
              "[29523 rows x 11 columns]"
            ]
          },
          "metadata": {},
          "execution_count": 32
        }
      ]
    },
    {
      "cell_type": "code",
      "metadata": {
        "colab": {
          "base_uri": "https://localhost:8080/"
        },
        "id": "pXejLDjR_dXh",
        "outputId": "fe3b4657-62d1-4d6f-82fe-66418a43fd58"
      },
      "source": [
        "cost_delivered=fuel_data.groupby(\"report_year\")[\"fuel_cost_per_unit_delivered\"].mean()\n",
        "cost_delivered.sort_values()"
      ],
      "execution_count": 40,
      "outputs": [
        {
          "output_type": "execute_result",
          "data": {
            "text/plain": [
              "report_year\n",
              "1999       25.551627\n",
              "1995       32.735269\n",
              "2006       38.657484\n",
              "2005       41.438184\n",
              "2007       43.325023\n",
              "2017       46.196861\n",
              "2002       47.594361\n",
              "2003       55.663493\n",
              "2008       58.588197\n",
              "2011       59.774667\n",
              "2001       60.050396\n",
              "2012       60.994502\n",
              "1994       63.636060\n",
              "2010       91.862105\n",
              "2016      103.901761\n",
              "2004      139.524275\n",
              "2013      172.307591\n",
              "2014      192.737183\n",
              "1998      287.154420\n",
              "2015      326.535511\n",
              "2018      499.269966\n",
              "2009      652.694163\n",
              "2000      985.362877\n",
              "1996     9196.705948\n",
              "1997    11140.197239\n",
              "Name: fuel_cost_per_unit_delivered, dtype: float64"
            ]
          },
          "metadata": {},
          "execution_count": 40
        }
      ]
    },
    {
      "cell_type": "code",
      "metadata": {
        "colab": {
          "base_uri": "https://localhost:8080/"
        },
        "id": "VEwrkvwMBUM2",
        "outputId": "4f08deef-60c8-43b3-c6de-0ee4e4011922"
      },
      "source": [
        "fuel_data.groupby(\"report_year\")[\"fuel_cost_per_unit_delivered\"].mean()"
      ],
      "execution_count": 42,
      "outputs": [
        {
          "output_type": "execute_result",
          "data": {
            "text/plain": [
              "report_year\n",
              "1994       63.636060\n",
              "1995       32.735269\n",
              "1996     9196.705948\n",
              "1997    11140.197239\n",
              "1998      287.154420\n",
              "1999       25.551627\n",
              "2000      985.362877\n",
              "2001       60.050396\n",
              "2002       47.594361\n",
              "2003       55.663493\n",
              "2004      139.524275\n",
              "2005       41.438184\n",
              "2006       38.657484\n",
              "2007       43.325023\n",
              "2008       58.588197\n",
              "2009      652.694163\n",
              "2010       91.862105\n",
              "2011       59.774667\n",
              "2012       60.994502\n",
              "2013      172.307591\n",
              "2014      192.737183\n",
              "2015      326.535511\n",
              "2016      103.901761\n",
              "2017       46.196861\n",
              "2018      499.269966\n",
              "Name: fuel_cost_per_unit_delivered, dtype: float64"
            ]
          },
          "metadata": {},
          "execution_count": 42
        }
      ]
    },
    {
      "cell_type": "code",
      "metadata": {
        "colab": {
          "base_uri": "https://localhost:8080/"
        },
        "id": "9Fy6TMw-CAMz",
        "outputId": "707f1d3c-a7f6-4bf0-d6e0-f54a0d9f86c0"
      },
      "source": [
        "((287.154420-63.636060)/287.154420)*100\n"
      ],
      "execution_count": 44,
      "outputs": [
        {
          "output_type": "execute_result",
          "data": {
            "text/plain": [
              "77.83908045016337"
            ]
          },
          "metadata": {},
          "execution_count": 44
        }
      ]
    },
    {
      "cell_type": "code",
      "metadata": {
        "colab": {
          "base_uri": "https://localhost:8080/"
        },
        "id": "TSN_KvdjDRGD",
        "outputId": "3c7b5221-7e7e-445c-aa26-3c9d7d96d3b6"
      },
      "source": [
        "(287.154420/63.636060)-1"
      ],
      "execution_count": 45,
      "outputs": [
        {
          "output_type": "execute_result",
          "data": {
            "text/plain": [
              "3.5124481308239384"
            ]
          },
          "metadata": {},
          "execution_count": 45
        }
      ]
    }
  ]
}